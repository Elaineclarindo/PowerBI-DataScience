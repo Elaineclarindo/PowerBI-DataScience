{
  "nbformat": 4,
  "nbformat_minor": 0,
  "metadata": {
    "colab": {
      "name": "twitter_api.ipynb",
      "provenance": [],
      "collapsed_sections": [],
      "include_colab_link": true
    },
    "kernelspec": {
      "display_name": "Python",
      "language": "python",
      "name": "conda-env-python-py"
    },
    "language_info": {
      "codemirror_mode": {
        "name": "ipython",
        "version": 3
      },
      "file_extension": ".py",
      "mimetype": "text/x-python",
      "name": "python",
      "nbconvert_exporter": "python",
      "pygments_lexer": "ipython3",
      "version": "3.6.7"
    }
  },
  "cells": [
    {
      "cell_type": "markdown",
      "metadata": {
        "id": "view-in-github",
        "colab_type": "text"
      },
      "source": [
        "<a href=\"https://colab.research.google.com/github/Elaineclarindo/PowerBI-DataScience/blob/master/twitter_api.ipynb\" target=\"_parent\"><img src=\"https://colab.research.google.com/assets/colab-badge.svg\" alt=\"Open In Colab\"/></a>"
      ]
    },
    {
      "cell_type": "markdown",
      "metadata": {
        "id": "HHRIZlLYE9vo"
      },
      "source": [
        "# Twitter Analysis"
      ]
    },
    {
      "cell_type": "markdown",
      "metadata": {
        "id": "GW7AdYLLE9vp"
      },
      "source": [
        "Para integrar na API do Twitter precisamos logar na conta e criar as chaves\n",
        "\n",
        "---\n",
        "\n"
      ]
    },
    {
      "cell_type": "markdown",
      "metadata": {
        "id": "XRj-SQEgE9vq"
      },
      "source": [
        "https://developer.twitter.com/en/apps"
      ]
    },
    {
      "cell_type": "code",
      "metadata": {
        "id": "gutpXT0DE9vr"
      },
      "source": [
        "#!pip install tweepy"
      ],
      "execution_count": 1,
      "outputs": []
    },
    {
      "cell_type": "markdown",
      "metadata": {
        "id": "uGkTb_wEE9vw"
      },
      "source": [
        "Precisamos importar as bibliotecas necessárias"
      ]
    },
    {
      "cell_type": "code",
      "metadata": {
        "id": "gFQ28S2LE9vx"
      },
      "source": [
        "import tweepy\n",
        "import csv\n",
        "import pandas as pd"
      ],
      "execution_count": 3,
      "outputs": []
    },
    {
      "cell_type": "code",
      "metadata": {
        "id": "AwO-dAAryl58"
      },
      "source": [
        ""
      ],
      "execution_count": null,
      "outputs": []
    },
    {
      "cell_type": "markdown",
      "metadata": {
        "id": "U6fg4gJhE9v0"
      },
      "source": [
        "E setar os chaves de acesso e chaves do consumidor da API"
      ]
    },
    {
      "cell_type": "code",
      "metadata": {
        "id": "6mqlYODvE9v1"
      },
      "source": [
        "consumer_key = 'b4Cnj5ONm5CEP5er7w9N2phSN'\n",
        "consumer_secret = '9X9lFBHcOOtvY0nHuZfSOaRhQX3EZSUY2UpJtx6xafQ3PPsgd7'\n",
        "access_token = '51169226-gvkgOLC2tiBKyGNHn0jjvQ1xAXdxnxoxY0ICzYR7k'\n",
        "access_token_secret =  'aAiDCQvJhRS3fYvQHQRjuM3dAgOQRFGekIPeJwBNWUyyI'"
      ],
      "execution_count": 4,
      "outputs": []
    },
    {
      "cell_type": "markdown",
      "metadata": {
        "id": "cJnUiWfvE9v4"
      },
      "source": [
        "Configuramos as chaves"
      ]
    },
    {
      "cell_type": "code",
      "metadata": {
        "id": "kDdb8_HSE9v5"
      },
      "source": [
        "auth = tweepy.OAuthHandler(consumer_key, consumer_secret)\n",
        "auth.set_access_token(access_token, access_token_secret)"
      ],
      "execution_count": 5,
      "outputs": []
    },
    {
      "cell_type": "markdown",
      "metadata": {
        "id": "bNh0MQxME9v8"
      },
      "source": [
        "E instanciamos a classe da API do Tweepy"
      ]
    },
    {
      "cell_type": "markdown",
      "metadata": {
        "id": "wBiFE4s8E9v9"
      },
      "source": [
        "A documentação pode ser encontrada em: http://docs.tweepy.org/en/latest/api.html#tweepy-api-twitter-api-wrapper"
      ]
    },
    {
      "cell_type": "code",
      "metadata": {
        "id": "wR7PDwGYE9v-"
      },
      "source": [
        "api = tweepy.API(auth, wait_on_rate_limit=True)"
      ],
      "execution_count": 6,
      "outputs": []
    },
    {
      "cell_type": "code",
      "metadata": {
        "id": "nlG1GD7TE9wB"
      },
      "source": [
        "results = []"
      ],
      "execution_count": 7,
      "outputs": []
    },
    {
      "cell_type": "code",
      "metadata": {
        "id": "0gO999rfE9wE"
      },
      "source": [
        "hashtag = '#economia'\n",
        "lang = 'pt'"
      ],
      "execution_count": 8,
      "outputs": []
    },
    {
      "cell_type": "code",
      "metadata": {
        "id": "MaTNoa1hE9wJ"
      },
      "source": [
        "for tweet in tweepy.Cursor(api.search, q=hashtag, count=100, lang=lang,\n",
        "                           since=\"2021-01-01\").items(100):\n",
        "    results.append((tweet.created_at, tweet.text))"
      ],
      "execution_count": 9,
      "outputs": []
    },
    {
      "cell_type": "code",
      "metadata": {
        "id": "5DDFlqKeE9wa",
        "colab": {
          "base_uri": "https://localhost:8080/"
        },
        "outputId": "9c2a17e7-efeb-4447-8897-4d570408e26d"
      },
      "source": [
        "results"
      ],
      "execution_count": 10,
      "outputs": [
        {
          "output_type": "execute_result",
          "data": {
            "text/plain": [
              "[(datetime.datetime(2021, 2, 16, 17, 4, 46),\n",
              "  'Associação Catarinense de Supermercados comemora 49 anos de fundação: https://t.co/EEMJ2tLZEA\\n\\n#acats… https://t.co/l6KNGakmk3'),\n",
              " (datetime.datetime(2021, 2, 16, 17, 3, 51),\n",
              "  'Pelo calendário, os beneficiários passam a receber a partir de 25 de março. 😉 #13ºsalário #adiantamento… https://t.co/JogM5TE0yO'),\n",
              " (datetime.datetime(2021, 2, 16, 17, 2, 33),\n",
              "  'Com investimento de R$ 1,2 bilhão, antiga fábrica da Ford vira centro logístico\\n#cimm #investimentos #economia… https://t.co/YfN7LRZiZJ'),\n",
              " (datetime.datetime(2021, 2, 16, 16, 59, 28),\n",
              "  'Menos de 13% das notas de R$ 200 impressas estão em circulação\\n\\nhttps://t.co/neWFKz5Lje \\n\\n#economia… https://t.co/oX7O5nh9eT'),\n",
              " (datetime.datetime(2021, 2, 16, 16, 56, 9),\n",
              "  '++TN: Condições financeiras dos EUA estão em geral boas, diz Bullard, do Federal Reserve:  https://t.co/8lghkRADm7… https://t.co/OkeMj6ST9t'),\n",
              " (datetime.datetime(2021, 2, 16, 16, 52, 6),\n",
              "  'A ascensão foi impulsionada pela adoção cada vez maior da criptomoeda, e ainda mais após a divulgação da Tesla nest… https://t.co/5VWRUGqUob'),\n",
              " (datetime.datetime(2021, 2, 16, 16, 52, 1),\n",
              "  'A ascensão foi impulsionada pela adoção cada vez maior da criptomoeda, e ainda mais após a divulgação da Tesla nest… https://t.co/I2QLBbIQ4P'),\n",
              " (datetime.datetime(2021, 2, 16, 16, 49, 37),\n",
              "  'Condições financeiras dos EUA estão em geral boas, diz Bullard, do Federal Reserve \\n\\n#EUA #USA #FederalReserve… https://t.co/UJAzfTg8qT'),\n",
              " (datetime.datetime(2021, 2, 16, 16, 47, 12),\n",
              "  'RT @jornal_cultura: Segundo grupo de pesquisa da economista Laura Carvalho, redistribuir renda pode ajudar na recuperação da economia sem a…'),\n",
              " (datetime.datetime(2021, 2, 16, 16, 46, 6),\n",
              "  'Pandemia: Endividamento das famílias bate novo recorde\\n\\nhttps://t.co/Co0ZE0ey0Z #Economia #BancoCentral… https://t.co/2qqoQE1fXR'),\n",
              " (datetime.datetime(2021, 2, 16, 16, 41, 10),\n",
              "  'Continuamos discutindo preço de combustíveis, diz Bolsonaro em SC https://t.co/HIVCnnt15B #economia'),\n",
              " (datetime.datetime(2021, 2, 16, 16, 41, 3),\n",
              "  'RT @brasildefato: #Economia I Tributar mais ricos para pagar #BolsaFamília pode ter impacto positivo de 2,4% no #PIB\\nhttps://t.co/TgCWULOy77'),\n",
              " (datetime.datetime(2021, 2, 16, 16, 26, 18),\n",
              "  'Ampliar isenção no IR custaria R$ 74 bilhões https://t.co/gvuT7FVHPU #economia'),\n",
              " (datetime.datetime(2021, 2, 16, 16, 16, 8),\n",
              "  'Saiba em tempo real tudo o que acontece com os famosos, notícias 24hrs.\\n\\nConfira agora mesmo na íntegra!\\n\\nAcesse:… https://t.co/FeLRdk2HRB'),\n",
              " (datetime.datetime(2021, 2, 16, 16, 16, 1),\n",
              "  'RT @brasildefato: #Economia I Tributar mais ricos para pagar #BolsaFamília pode ter impacto positivo de 2,4% no #PIB\\nhttps://t.co/TgCWULOy77'),\n",
              " (datetime.datetime(2021, 2, 16, 16, 11, 31),\n",
              "  'Depois de 6 anos, Argentina retoma exportação de gás ao Brasil\\n\\nhttps://t.co/Rf9AR7mY4T #Economia #Internacional… https://t.co/vR8I1uxfs3'),\n",
              " (datetime.datetime(2021, 2, 16, 16, 10, 33),\n",
              "  'Depois de 6 anos, Argentina retoma exportação de gás ao Brasil\\n\\nhttps://t.co/QKqJfZfivp #Economia #Internacional… https://t.co/cBgNSpjmx9'),\n",
              " (datetime.datetime(2021, 2, 16, 16, 6, 22),\n",
              "  'O Banco do Brasil afirmou que o endividamento tem crescido bastante em 2021. Para contornar a situação, foi feita u… https://t.co/eTVoYUGAiX'),\n",
              " (datetime.datetime(2021, 2, 16, 16, 0, 42),\n",
              "  'RT @brasildefato: #Economia I Tributar mais ricos para pagar #BolsaFamília pode ter impacto positivo de 2,4% no #PIB\\nhttps://t.co/TgCWULOy77'),\n",
              " (datetime.datetime(2021, 2, 16, 15, 59, 38),\n",
              "  'RT @brasildefato: #Economia I Tributar mais ricos para pagar #BolsaFamília pode ter impacto positivo de 2,4% no #PIB\\nhttps://t.co/TgCWULOy77'),\n",
              " (datetime.datetime(2021, 2, 16, 15, 58, 7),\n",
              "  'Melhorar a #marca #Portugal para captar\\n#investimento lá fora e abrir destinos de #exportação,\\nprioridades para líd… https://t.co/2QaQaNO5IJ'),\n",
              " (datetime.datetime(2021, 2, 16, 15, 56, 9),\n",
              "  'RT @brasildefato: #Economia I Tributar mais ricos para pagar #BolsaFamília pode ter impacto positivo de 2,4% no #PIB\\nhttps://t.co/TgCWULOy77'),\n",
              " (datetime.datetime(2021, 2, 16, 15, 49, 58),\n",
              "  'RT @brasildefato: #Economia I Tributar mais ricos para pagar #BolsaFamília pode ter impacto positivo de 2,4% no #PIB\\nhttps://t.co/TgCWULOy77'),\n",
              " (datetime.datetime(2021, 2, 16, 15, 46, 55),\n",
              "  'RT @brasildefato: #Economia I Tributar mais ricos para pagar #BolsaFamília pode ter impacto positivo de 2,4% no #PIB\\nhttps://t.co/TgCWULOy77'),\n",
              " (datetime.datetime(2021, 2, 16, 15, 45),\n",
              "  '#Economia I Tributar mais ricos para pagar #BolsaFamília pode ter impacto positivo de 2,4% no #PIB\\nhttps://t.co/TgCWULOy77'),\n",
              " (datetime.datetime(2021, 2, 16, 15, 44, 2),\n",
              "  'Concessões para composição de dívidas, quando cliente faz acordo para unir modalidades de crédito, cresceram 72,7%… https://t.co/KteQ2xwHEc'),\n",
              " (datetime.datetime(2021, 2, 16, 15, 36, 17),\n",
              "  'Brasileiro renegocia empréstimos para melhorar perfil da dívida na pandemia https://t.co/moImwunWCt #economia'),\n",
              " (datetime.datetime(2021, 2, 16, 15, 31, 32),\n",
              "  'Deus tem um sonho de te fazer prosperar, para que por meio da sua vida muitas pessoas sejam abençoadas! 🔥… https://t.co/hoiOyIej3l'),\n",
              " (datetime.datetime(2021, 2, 16, 15, 30, 56),\n",
              "  '#ECONOMIA | Bitcoin supera 50.000 dólares pela primeira vez - https://t.co/aJ29PKpgDQ https://t.co/LaFuSGTix0'),\n",
              " (datetime.datetime(2021, 2, 16, 15, 30, 42),\n",
              "  'É bom estarmos atentos a mais essa linha de frente que atenta contra a nossa liberdade:\\n\\nhttps://t.co/Of2VgwWM4m… https://t.co/my4FXsmsIg'),\n",
              " (datetime.datetime(2021, 2, 16, 15, 29, 57),\n",
              "  'Turismo brasileiro perdeu R$ 55,6 bilhões em 2020, mostra FecomercioSP\\n\\n https://t.co/n9WP2ZQ8Q4\\n\\nReceita de R$ 113… https://t.co/pLo8wjYpKl'),\n",
              " (datetime.datetime(2021, 2, 16, 15, 27, 4),\n",
              "  'Governo está elaborando junto com Congresso viabilização de novo auxílio emergencial https://t.co/Z9yxlqmFku… https://t.co/L5a1pH7YPK'),\n",
              " (datetime.datetime(2021, 2, 16, 15, 26, 11),\n",
              "  '++TN: Draghi tem posição forte para possíveis reformas na zona do euro, diz consultoria:  https://t.co/36lA2MWZuG… https://t.co/EdJ7Roy4MO'),\n",
              " (datetime.datetime(2021, 2, 16, 15, 22, 31),\n",
              "  'Covid-19: cronograma do governo prevê entregas de vacinas para 2021\\n\\nhttps://t.co/uHFNbJElyH #Economia #Coronavirus #CovaxFacility #Vacinas'),\n",
              " (datetime.datetime(2021, 2, 16, 15, 4, 47),\n",
              "  '📰 #F5 - Jornal dos Canyons\\n\\n💰 #Economia \\n \\n👉🏻 China ultrapassa EUA e se torna maior parceiro comercial da União Eur… https://t.co/50E5HE1NwS'),\n",
              " (datetime.datetime(2021, 2, 16, 15, 2, 47),\n",
              "  \"Um conceito que acho muito interessante é o 'Custo de Oportunidade', de forma simples ele equivale aquele pensament… https://t.co/2hPRXAaaBK\"),\n",
              " (datetime.datetime(2021, 2, 16, 14, 57, 24),\n",
              "  '++TN: Covid-19: cronograma do governo prevê entregas de vacinas para 2021:  https://t.co/aqSqgAhUnJ\\n\\n#coronavírus… https://t.co/Ciky5O16EJ'),\n",
              " (datetime.datetime(2021, 2, 16, 14, 50, 47),\n",
              "  'Bitcoin atinge máximo histórico de mais de 50.000 dólares https://t.co/h8QyA3XCkf #bitcoin #Criptomoedas #Economia'),\n",
              " (datetime.datetime(2021, 2, 16, 14, 43, 9),\n",
              "  'Baixe o aplicativo 99Taxi no seu celular;\\nClique no menu, Cupom de desconto;\\nInsira o código BRP4BPNK;\\nNa primeira… https://t.co/G1ESy3Ko2S'),\n",
              " (datetime.datetime(2021, 2, 16, 14, 42, 45),\n",
              "  'Baixe o aplicativo Rappi no seu celular;\\nMenu, Cupons;\\nInsira o código s7d3104826;\\nPedido com 45$ de desconto;\\nVáli… https://t.co/8fVw4QhGrl'),\n",
              " (datetime.datetime(2021, 2, 16, 14, 39, 5),\n",
              "  'Prefeitura de Guanambi planeja dois leilões públicos com mais de 400 veículos https://t.co/kM7UrN7cP1… https://t.co/cBhF1Alo0Z'),\n",
              " (datetime.datetime(2021, 2, 16, 14, 39, 3),\n",
              "  '#AdministraçãoPública #Destaques #Economia Prefeitura de Guanambi planeja dois leilões públicos com mais de 400 veí… https://t.co/YB77plkrLe'),\n",
              " (datetime.datetime(2021, 2, 16, 14, 36, 3),\n",
              "  'Setor de automóveis adere ao ato contra aumento do ICMS em São Paulo https://t.co/pDThAGTdAS #economia'),\n",
              " (datetime.datetime(2021, 2, 16, 14, 22, 35),\n",
              "  'Transição digital das escolas prevê mais 260 mil computadores https://t.co/quxbz3KloJ #Economia #Educação #escolas'),\n",
              " (datetime.datetime(2021, 2, 16, 14, 17, 39),\n",
              "  'Plano de resiliência com 620 milhões para eficiência energética de edifícios https://t.co/CBQc3uinza #Economia #EnergiaElétrica #Política'),\n",
              " (datetime.datetime(2021, 2, 16, 14, 12, 31),\n",
              "  'RT @jornal_cultura: Segundo grupo de pesquisa da economista Laura Carvalho, redistribuir renda pode ajudar na recuperação da economia sem a…'),\n",
              " (datetime.datetime(2021, 2, 16, 14, 7, 17),\n",
              "  'Bom dia para todes amigues no @TwitterBrasil \\n\\nFeriadão para ler livros mais densos, como MacroWikinomics, de Tapsc… https://t.co/bqJ07YQkIU'),\n",
              " (datetime.datetime(2021, 2, 16, 14, 6, 38),\n",
              "  'Depois do \"consenso\" fechado entre os presidentes da Câmara, do Senado, e ministros, o governo tentará aprovar a pr… https://t.co/ZdCe2V1Ndz'),\n",
              " (datetime.datetime(2021, 2, 16, 14, 2, 41),\n",
              "  'RT @senadorpaulor: Paulo Rocha alerta para o impacto da suspensão do auxílio emergencial na economia. \\n\\n#auxilioemergencial #senadorpauloro…'),\n",
              " (datetime.datetime(2021, 2, 16, 14, 1, 22),\n",
              "  'RT @jornal_cultura: Segundo grupo de pesquisa da economista Laura Carvalho, redistribuir renda pode ajudar na recuperação da economia sem a…'),\n",
              " (datetime.datetime(2021, 2, 16, 14, 1, 19),\n",
              "  'Paulo Rocha alerta para o impacto da suspensão do auxílio emergencial na economia. \\n\\n#auxilioemergencial… https://t.co/doTixwRnYY'),\n",
              " (datetime.datetime(2021, 2, 16, 13, 53, 36),\n",
              "  'RT @Terra: #Economia: Endividamento das famílias bate novo recorde na pandemia https://t.co/2gvzUEtpTU'),\n",
              " (datetime.datetime(2021, 2, 16, 13, 46, 10),\n",
              "  'Draghi tem posição forte para possíveis reformas na zona do euro, diz consultoria https://t.co/21GQLdrEdn #economia'),\n",
              " (datetime.datetime(2021, 2, 16, 13, 40, 23),\n",
              "  'China ultrapassa EUA e se torna maior parceiro comercial da UE\\n\\nhttps://t.co/tKlz6eOJF2 #Economia #China #EUA #UniaoEuropeia'),\n",
              " (datetime.datetime(2021, 2, 16, 13, 37, 41),\n",
              "  'Matéria divulgada pelo Portal FDR destaca a criação da PEC do Pacto Federativo. Entenda!\\n#Economia… https://t.co/8leXLNmLkZ'),\n",
              " (datetime.datetime(2021, 2, 16, 13, 33, 50),\n",
              "  'RT @Terra: #Economia: Promessa de Bolsonaro de ampliar faixa de isenção do IR vai custar R$ 74 bi aos cofres públicos https://t.co/nYJjZlky…'),\n",
              " (datetime.datetime(2021, 2, 16, 13, 32, 47),\n",
              "  'RT @Terra: #Economia: Endividamento das famílias bate novo recorde, diz BC\\nhttps://t.co/AjnJsiNrSs'),\n",
              " (datetime.datetime(2021, 2, 16, 13, 31, 52),\n",
              "  'RT @Terra: #Economia: Endividamento das famílias bate novo recorde na pandemia https://t.co/2gvzUEtpTU'),\n",
              " (datetime.datetime(2021, 2, 16, 13, 30),\n",
              "  '#Economia: Endividamento das famílias bate novo recorde na pandemia https://t.co/2gvzUEtpTU'),\n",
              " (datetime.datetime(2021, 2, 16, 13, 27, 10),\n",
              "  'INVESTIMENTOS EM ESTRADAS INTEGRAM SUDOESTE E CHAPADA DIAMANTINA #Economia https://t.co/2BirzTofm6'),\n",
              " (datetime.datetime(2021, 2, 16, 13, 14, 9),\n",
              "  '++TN: Confiança do investidor alemão sobe em fevereiro por expectativas de consumo:  https://t.co/IZwMR94Fy6… https://t.co/JHBon7MhrG'),\n",
              " (datetime.datetime(2021, 2, 16, 13, 10, 49),\n",
              "  '#ECONOMIA | Aplicativos ampliam serviços na corrida por serem superapp - https://t.co/OmNSEme7W8 https://t.co/tjzqdQK9Cq'),\n",
              " (datetime.datetime(2021, 2, 16, 13, 9, 9),\n",
              "  'Confiança do investidor alemão sobe em fevereiro por expectativas de consumo https://t.co/nPIIkopqgh #Alemanha #Economia #Internacional'),\n",
              " (datetime.datetime(2021, 2, 16, 13, 2, 37),\n",
              "  '#ECONOMIA - Mesmo em plena pandemia, a economia do Amazonas teve crescimento de 15% em sua Receita Total em 2020, c… https://t.co/J7eitGNiBQ'),\n",
              " (datetime.datetime(2021, 2, 16, 13, 1, 43),\n",
              "  'O que podemos esperar deste ano?😉\\n\\nTwita aí, e confere lá em nosso site a matéria na íntegra.👇🏻… https://t.co/W4CNyKkPKy'),\n",
              " (datetime.datetime(2021, 2, 16, 13, 1, 43),\n",
              "  'O que podemos esperar deste ano?😉\\n\\nTwita aí, e confere lá em nosso site a matéria na íntegra.👇🏻… https://t.co/JKkeTCiPSe'),\n",
              " (datetime.datetime(2021, 2, 16, 13, 1, 42),\n",
              "  'O fluxo de caixa da sua empresa tem tirado o seu sono? Confira como controlar e planejar todas as entradas e saídas… https://t.co/8ZSKUuRqd5'),\n",
              " (datetime.datetime(2021, 2, 16, 13, 1, 42),\n",
              "  'O fluxo de caixa da sua empresa tem tirado o seu sono? Confira como controlar e planejar todas as entradas e saídas… https://t.co/ZQRK48sW6a'),\n",
              " (datetime.datetime(2021, 2, 16, 13, 1, 26),\n",
              "  'Saiba tudo o que você pode fazer a partir do aplicativo e de forma gratuita. 😀\\n#aplicativocaixatem… https://t.co/W6m6cK5OV5'),\n",
              " (datetime.datetime(2021, 2, 16, 13, 0, 49),\n",
              "  'O gigante publicitário japonês Dentsu Group Inc. relatou na segunda-feira um prejuízo líquido recorde de 159,60 bil… https://t.co/YU53kX0fMz'),\n",
              " (datetime.datetime(2021, 2, 16, 12, 57, 56),\n",
              "  'Lucros corporativos otimistas, esperanças de uma recuperação americana e dados robustos de crescimento da economia… https://t.co/ix93iFdUYW'),\n",
              " (datetime.datetime(2021, 2, 16, 12, 56, 3),\n",
              "  'Combater nacionalismo da vacina será prioridade, diz nova chefe da OMC https://t.co/nporqlGZkF #economia'),\n",
              " (datetime.datetime(2021, 2, 16, 12, 54, 38),\n",
              "  '++TN: Alemanha: índice ZEW de expectativas econômicas sobe a 71,2 em fevereiro:  https://t.co/61FqJr0h84\\n\\n#alemanha… https://t.co/mR0i3ict9Z'),\n",
              " (datetime.datetime(2021, 2, 16, 12, 51, 38),\n",
              "  'Plano de resiliência prevê reforma da governação hospitalar https://t.co/yD3L2i9IvI #Economia #hospitais #Política'),\n",
              " (datetime.datetime(2021, 2, 16, 12, 48, 49),\n",
              "  'Governo prevê 267 milhões na justiça económica e ambiente de negócios https://t.co/ip4lMNjY9Q #Economia #Política #UniãoEuropeia'),\n",
              " (datetime.datetime(2021, 2, 16, 12, 44, 4),\n",
              "  'Economia SC Podcast #6: tendências para e-commerce, indicadores econômicos e Invest SC: https://t.co/YMHK98ZH3y… https://t.co/Ekav7PO7kg'),\n",
              " (datetime.datetime(2021, 2, 16, 12, 42, 27),\n",
              "  'Centeno a favor do prolongamento das compras de emergência do BCE https://t.co/LHPJoZCtHc #BancoDePortugal #Economia #MárioCenteno'),\n",
              " (datetime.datetime(2021, 2, 16, 12, 39, 59),\n",
              "  'Costa pede contributos dos portugueses para o Plano de Recuperação https://t.co/9hfcvBhZNo #AntónioCosta #Economia #Política'),\n",
              " (datetime.datetime(2021, 2, 16, 12, 23, 55),\n",
              "  'Portugal prevê investir 1,6 mil milhões ao nível da habitação https://t.co/ulKoSvr3qH #AntónioCosta #Economia #Política'),\n",
              " (datetime.datetime(2021, 2, 16, 12, 15, 18),\n",
              "  '𝐄𝐂𝐎𝐍𝐎𝐌𝐈𝐀 𝐄 𝐍𝐄𝐆Ó𝐂𝐈𝐎𝐒 - Governo lança renegociação de dívidas da pandemia com até 70% de desconto. O professor e econ… https://t.co/AMLtiwZW4r'),\n",
              " (datetime.datetime(2021, 2, 16, 12, 14, 21),\n",
              "  'Minha matéria sobre as sturtups unicórnios.😁👍\\n🏙💻🦄🤑🔝\\nEntrevistado: @bamoco2 (Consultor)\\n#jornalismo #economia… https://t.co/hU5XOsoxdg'),\n",
              " (datetime.datetime(2021, 2, 16, 12, 6, 21),\n",
              "  'Depois do advento da criptomoeda, governo brasileiro inova e cria a lactomoeda - calculada à base de leite condensado. #economia #hienas'),\n",
              " (datetime.datetime(2021, 2, 16, 11, 58, 8),\n",
              "  'Plano de resiliência com 1.383 milhões para reforçar Saúde https://t.co/OinpLSWoy5 #Economia #Política #Saúde'),\n",
              " (datetime.datetime(2021, 2, 16, 11, 46, 3),\n",
              "  'Combater nacionalismo da vacina será prioridade, diz nova chefe da OMC https://t.co/nporqlYAJf #economia'),\n",
              " (datetime.datetime(2021, 2, 16, 11, 37, 17),\n",
              "  'O Brasil está pronto para colaborar com a nova diretora-geral da OMC (Organização Mundial do Comércio), Ngozi Okonj… https://t.co/haKgFeRZvM'),\n",
              " (datetime.datetime(2021, 2, 16, 11, 20, 48),\n",
              "  'A segunda edição de 2021 do Relatório OCP de Expectativas de Mercado mantém o otimismo recuperado e o grau de segur… https://t.co/uc5lrWF233'),\n",
              " (datetime.datetime(2021, 2, 16, 11, 19, 46),\n",
              "  'Governo quer dedicar 130 milhões das verbas da recuperação à cibersegurança https://t.co/Wovd8NZZ9K #AntónioCosta #Economia #Política'),\n",
              " (datetime.datetime(2021, 2, 16, 11, 1, 5),\n",
              "  'RT @congressoemfoco: O #Psol foi o único partido que não acatou o acordo feito entre a base do #Governo e a oposição. #BancoCentral #Legisl…'),\n",
              " (datetime.datetime(2021, 2, 16, 10, 46, 17),\n",
              "  'Endividamento das famílias bate novo recorde na pandemia https://t.co/qKmssjWPuU #economia'),\n",
              " (datetime.datetime(2021, 2, 16, 10, 45),\n",
              "  '(Via @Estadao) Ngozi Okonjo-Iweala, a nigeriana escolhida para comandar a Organização Mundial do Comércio… https://t.co/2x1xXjvNz9'),\n",
              " (datetime.datetime(2021, 2, 16, 10, 35, 48),\n",
              "  'Após onda de devoluções, total de escritórios disponíveis em SP sobe 50% https://t.co/xOuQSjvGhT #economia'),\n",
              " (datetime.datetime(2021, 2, 16, 10, 25, 22),\n",
              "  'Brasil x Argentina: por que a crise econômica do país vizinho é mais delicada?\\n\\nhttps://t.co/oVg6yumVp0 #Economia… https://t.co/ZkEnTvFrNu'),\n",
              " (datetime.datetime(2021, 2, 16, 10, 24, 3),\n",
              "  '#Economia | Endividamento das famílias bate recorde na pandemia, aponta Banco Central | Saiba mais em https://t.co/HsqT82LPUV'),\n",
              " (datetime.datetime(2021, 2, 16, 10, 22, 46),\n",
              "  'Leão quer 27 totalmente focados nos planos nacionais de recuperação https://t.co/HvFkCn3omp #Economia #JoãoLeao #Política'),\n",
              " (datetime.datetime(2021, 2, 16, 10, 15, 8),\n",
              "  'Arranque do 5G fora do plano de resiliência por ser investimento de privados https://t.co/i0I3NP6n79 #5G #comunicação #Economia'),\n",
              " (datetime.datetime(2021, 2, 16, 10, 11, 15),\n",
              "  'Setor de eventos ganhará socorro federal em meio à maior crise da história\\n\\nhttps://t.co/2n3XtPytar \\n\\n#economia… https://t.co/7diwe9U0fd'),\n",
              " (datetime.datetime(2021, 2, 16, 10, 10, 22),\n",
              "  'Portugal quer projeto com Espanha para lítio e baterias de automóveis https://t.co/cX8ylQWmbA #Economia #EnergiaElétrica #Política'),\n",
              " (datetime.datetime(2021, 2, 16, 10, 4, 29),\n",
              "  'Governo divulga dentro de duas semanas impacto macroeconómico do PRR https://t.co/08cfq8Sf6V #Economia #NelsonDeSouza #Política'),\n",
              " (datetime.datetime(2021, 2, 16, 9, 48, 27),\n",
              "  'https://t.co/5QLu7z4C1C - Navigator é a terceira maior exportadora do País e líder em Valor Acrescentado Nacional -… https://t.co/TTMfbl4qdY'),\n",
              " (datetime.datetime(2021, 2, 16, 9, 45, 11),\n",
              "  'Governo tem espaço para estender auxílio e investir, avalia economista\\n\\nhttps://t.co/VRnR2kZQrd #Coronavirus… https://t.co/SOQlnxSWaF')]"
            ]
          },
          "metadata": {
            "tags": []
          },
          "execution_count": 10
        }
      ]
    },
    {
      "cell_type": "code",
      "metadata": {
        "id": "kJbtBnViE9wd"
      },
      "source": [
        ""
      ],
      "execution_count": null,
      "outputs": []
    }
  ]
}