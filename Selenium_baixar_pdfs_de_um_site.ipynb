{
  "nbformat": 4,
  "nbformat_minor": 0,
  "metadata": {
    "colab": {
      "name": "Selenium - baixar pdfs de um site.ipynb",
      "provenance": [],
      "collapsed_sections": [],
      "authorship_tag": "ABX9TyNTBYRKT8SbxQWFKBzUI/kR",
      "include_colab_link": true
    },
    "kernelspec": {
      "name": "python3",
      "display_name": "Python 3"
    }
  },
  "cells": [
    {
      "cell_type": "markdown",
      "metadata": {
        "id": "view-in-github",
        "colab_type": "text"
      },
      "source": [
        "<a href=\"https://colab.research.google.com/github/Elaineclarindo/PowerBI-DataScience/blob/master/Selenium_baixar_pdfs_de_um_site.ipynb\" target=\"_parent\"><img src=\"https://colab.research.google.com/assets/colab-badge.svg\" alt=\"Open In Colab\"/></a>"
      ]
    },
    {
      "cell_type": "markdown",
      "metadata": {
        "id": "OC7MnDet-Xff"
      },
      "source": [
        "Baixar um conteúdo de uma página - falta configurar o lugar para baixar "
      ]
    },
    {
      "cell_type": "code",
      "metadata": {
        "colab": {
          "base_uri": "https://localhost:8080/"
        },
        "id": "vUVveJHF-sSm",
        "outputId": "455174c1-1c54-404f-962e-11edd5b4fe51"
      },
      "source": [
        "!pip install selenium\r\n",
        "!apt-get update # to update ubuntu to correctly run apt install\r\n",
        "!apt install chromium-chromedriver\r\n",
        "#!cp /usr/lib/chromium-browser/chromedriver /usr/bin"
      ],
      "execution_count": 3,
      "outputs": [
        {
          "output_type": "stream",
          "text": [
            "Collecting selenium\n",
            "\u001b[?25l  Downloading https://files.pythonhosted.org/packages/80/d6/4294f0b4bce4de0abf13e17190289f9d0613b0a44e5dd6a7f5ca98459853/selenium-3.141.0-py2.py3-none-any.whl (904kB)\n",
            "\u001b[K     |████████████████████████████████| 911kB 5.7MB/s \n",
            "\u001b[?25hRequirement already satisfied: urllib3 in /usr/local/lib/python3.6/dist-packages (from selenium) (1.24.3)\n",
            "Installing collected packages: selenium\n",
            "Successfully installed selenium-3.141.0\n",
            "Get:1 http://security.ubuntu.com/ubuntu bionic-security InRelease [88.7 kB]\n",
            "Ign:2 https://developer.download.nvidia.com/compute/cuda/repos/ubuntu1804/x86_64  InRelease\n",
            "Get:3 http://ppa.launchpad.net/c2d4u.team/c2d4u4.0+/ubuntu bionic InRelease [15.9 kB]\n",
            "Ign:4 https://developer.download.nvidia.com/compute/machine-learning/repos/ubuntu1804/x86_64  InRelease\n",
            "Hit:5 https://developer.download.nvidia.com/compute/cuda/repos/ubuntu1804/x86_64  Release\n",
            "Hit:6 http://archive.ubuntu.com/ubuntu bionic InRelease\n",
            "Hit:7 https://developer.download.nvidia.com/compute/machine-learning/repos/ubuntu1804/x86_64  Release\n",
            "Get:8 https://cloud.r-project.org/bin/linux/ubuntu bionic-cran40/ InRelease [3,626 B]\n",
            "Get:9 http://archive.ubuntu.com/ubuntu bionic-updates InRelease [88.7 kB]\n",
            "Get:10 http://security.ubuntu.com/ubuntu bionic-security/universe amd64 Packages [1,391 kB]\n",
            "Hit:11 http://ppa.launchpad.net/cran/libgit2/ubuntu bionic InRelease\n",
            "Get:12 http://security.ubuntu.com/ubuntu bionic-security/main amd64 Packages [1,929 kB]\n",
            "Get:13 http://archive.ubuntu.com/ubuntu bionic-backports InRelease [74.6 kB]\n",
            "Hit:14 http://ppa.launchpad.net/graphics-drivers/ppa/ubuntu bionic InRelease\n",
            "Get:17 https://cloud.r-project.org/bin/linux/ubuntu bionic-cran40/ Packages [45.4 kB]\n",
            "Get:18 http://ppa.launchpad.net/c2d4u.team/c2d4u4.0+/ubuntu bionic/main Sources [1,732 kB]\n",
            "Get:19 http://archive.ubuntu.com/ubuntu bionic-updates/main amd64 Packages [2,360 kB]\n",
            "Get:20 http://ppa.launchpad.net/c2d4u.team/c2d4u4.0+/ubuntu bionic/main amd64 Packages [886 kB]\n",
            "Get:21 http://archive.ubuntu.com/ubuntu bionic-updates/universe amd64 Packages [2,162 kB]\n",
            "Fetched 10.8 MB in 3s (3,451 kB/s)\n",
            "Reading package lists... Done\n",
            "Reading package lists... Done\n",
            "Building dependency tree       \n",
            "Reading state information... Done\n",
            "The following additional packages will be installed:\n",
            "  chromium-browser chromium-browser-l10n chromium-codecs-ffmpeg-extra\n",
            "Suggested packages:\n",
            "  webaccounts-chromium-extension unity-chromium-extension adobe-flashplugin\n",
            "The following NEW packages will be installed:\n",
            "  chromium-browser chromium-browser-l10n chromium-chromedriver\n",
            "  chromium-codecs-ffmpeg-extra\n",
            "0 upgraded, 4 newly installed, 0 to remove and 25 not upgraded.\n",
            "Need to get 81.0 MB of archives.\n",
            "After this operation, 273 MB of additional disk space will be used.\n",
            "Get:1 http://archive.ubuntu.com/ubuntu bionic-updates/universe amd64 chromium-codecs-ffmpeg-extra amd64 87.0.4280.66-0ubuntu0.18.04.1 [1,122 kB]\n",
            "Get:2 http://archive.ubuntu.com/ubuntu bionic-updates/universe amd64 chromium-browser amd64 87.0.4280.66-0ubuntu0.18.04.1 [71.7 MB]\n",
            "Get:3 http://archive.ubuntu.com/ubuntu bionic-updates/universe amd64 chromium-browser-l10n all 87.0.4280.66-0ubuntu0.18.04.1 [3,716 kB]\n",
            "Get:4 http://archive.ubuntu.com/ubuntu bionic-updates/universe amd64 chromium-chromedriver amd64 87.0.4280.66-0ubuntu0.18.04.1 [4,488 kB]\n",
            "Fetched 81.0 MB in 3s (24.5 MB/s)\n",
            "Selecting previously unselected package chromium-codecs-ffmpeg-extra.\n",
            "(Reading database ... 146425 files and directories currently installed.)\n",
            "Preparing to unpack .../chromium-codecs-ffmpeg-extra_87.0.4280.66-0ubuntu0.18.04.1_amd64.deb ...\n",
            "Unpacking chromium-codecs-ffmpeg-extra (87.0.4280.66-0ubuntu0.18.04.1) ...\n",
            "Selecting previously unselected package chromium-browser.\n",
            "Preparing to unpack .../chromium-browser_87.0.4280.66-0ubuntu0.18.04.1_amd64.deb ...\n",
            "Unpacking chromium-browser (87.0.4280.66-0ubuntu0.18.04.1) ...\n",
            "Selecting previously unselected package chromium-browser-l10n.\n",
            "Preparing to unpack .../chromium-browser-l10n_87.0.4280.66-0ubuntu0.18.04.1_all.deb ...\n",
            "Unpacking chromium-browser-l10n (87.0.4280.66-0ubuntu0.18.04.1) ...\n",
            "Selecting previously unselected package chromium-chromedriver.\n",
            "Preparing to unpack .../chromium-chromedriver_87.0.4280.66-0ubuntu0.18.04.1_amd64.deb ...\n",
            "Unpacking chromium-chromedriver (87.0.4280.66-0ubuntu0.18.04.1) ...\n",
            "Setting up chromium-codecs-ffmpeg-extra (87.0.4280.66-0ubuntu0.18.04.1) ...\n",
            "Setting up chromium-browser (87.0.4280.66-0ubuntu0.18.04.1) ...\n",
            "update-alternatives: using /usr/bin/chromium-browser to provide /usr/bin/x-www-browser (x-www-browser) in auto mode\n",
            "update-alternatives: using /usr/bin/chromium-browser to provide /usr/bin/gnome-www-browser (gnome-www-browser) in auto mode\n",
            "Setting up chromium-chromedriver (87.0.4280.66-0ubuntu0.18.04.1) ...\n",
            "Setting up chromium-browser-l10n (87.0.4280.66-0ubuntu0.18.04.1) ...\n",
            "Processing triggers for hicolor-icon-theme (0.17-2) ...\n",
            "Processing triggers for mime-support (3.60ubuntu1) ...\n",
            "Processing triggers for man-db (2.8.3-2ubuntu0.1) ...\n"
          ],
          "name": "stdout"
        }
      ]
    },
    {
      "cell_type": "code",
      "metadata": {
        "id": "D4y720uu-h_p"
      },
      "source": [
        "from bs4 import BeautifulSoup\r\n",
        "from selenium.webdriver.common.keys import Keys\r\n",
        "import time"
      ],
      "execution_count": 4,
      "outputs": []
    },
    {
      "cell_type": "code",
      "metadata": {
        "colab": {
          "base_uri": "https://localhost:8080/"
        },
        "id": "QFqcgmhy-ZQi",
        "outputId": "0e1a8c8d-8d90-4696-de41-e82587b2869f"
      },
      "source": [
        "import sys\r\n",
        "sys.path.insert(0,'/usr/lib/chromium-browser/chromedriver')\r\n",
        "from selenium import webdriver\r\n",
        "from selenium.webdriver.support.ui import WebDriverWait\r\n",
        "from selenium.webdriver.support import expected_conditions as EC\r\n",
        "from selenium.webdriver.common.by import By\r\n",
        "chrome_options = webdriver.ChromeOptions()\r\n",
        "chrome_options.add_argument('--headless')\r\n",
        "chrome_options.add_argument('--no-sandbox')\r\n",
        "# chrome_options.add_argument('--disable-dev-shm-usage')\r\n",
        "chrome_options.add_argument('--start-maximized')\r\n",
        "chrome_options.add_argument('user-agent=Mozilla/5.0 (Windows NT 6.3; WOW64) AppleWebKit/537.36 (KHTML, like Gecko) Chrome/59.0.3071.115 Safari/537.36')\r\n",
        "chrome_options.add_argument('--ignore-certificate-errors')\r\n",
        "wd = webdriver.Chrome('chromedriver',chrome_options=chrome_options, service_args=['--verbose', '--log-path=/tmp/chromedriver.log'])"
      ],
      "execution_count": 5,
      "outputs": [
        {
          "output_type": "stream",
          "text": [
            "/usr/local/lib/python3.6/dist-packages/ipykernel_launcher.py:14: DeprecationWarning: use options instead of chrome_options\n",
            "  \n"
          ],
          "name": "stderr"
        }
      ]
    },
    {
      "cell_type": "code",
      "metadata": {
        "id": "qTmbfWlj-66J"
      },
      "source": [
        "wd.delete_all_cookies()"
      ],
      "execution_count": 6,
      "outputs": []
    },
    {
      "cell_type": "code",
      "metadata": {
        "id": "wHzKPg6H-8Dw"
      },
      "source": [
        "wd.get(\"https://www.ana.gov.br/todos-os-documentos-do-portal/documentos-cor/relatorios-sic\")"
      ],
      "execution_count": 7,
      "outputs": []
    },
    {
      "cell_type": "code",
      "metadata": {
        "id": "hbjJC7Eb_BB9"
      },
      "source": [
        "from bs4 import BeautifulSoup\r\n",
        "\r\n",
        "ana_page = wd.page_source\r\n",
        "ana_page_soup = BeautifulSoup(ana_page,'html.parser')"
      ],
      "execution_count": 8,
      "outputs": []
    },
    {
      "cell_type": "code",
      "metadata": {
        "id": "qImK_qhx_EEQ"
      },
      "source": [
        "page_links = ana_page_soup.find_all('span', {\"class\": \"summary\"})"
      ],
      "execution_count": 9,
      "outputs": []
    },
    {
      "cell_type": "code",
      "metadata": {
        "colab": {
          "base_uri": "https://localhost:8080/"
        },
        "id": "BmXkeV4d_G7T",
        "outputId": "4ab6bcec-b436-439f-9e78-53575acf327a"
      },
      "source": [
        "page_links"
      ],
      "execution_count": 10,
      "outputs": [
        {
          "output_type": "execute_result",
          "data": {
            "text/plain": [
              "[<span class=\"summary\">\n",
              " <a class=\"contenttype-link state-published url\" href=\"https://www.ana.gov.br/todos-os-documentos-do-portal/documentos-cor/relatorios-sic/relatorio-anual-do-sic-2013-quantitativo-de-demandas-no-periodo-de-junho-2016-a-maio-2017\">Relatório anual do SIC – quantitativo de demandas no período de junho/2016 a maio/2017</a>\n",
              " </span>, <span class=\"summary\">\n",
              " <a class=\"contenttype-link state-published url\" href=\"https://www.ana.gov.br/todos-os-documentos-do-portal/documentos-cor/relatorios-sic/relatorio-anual-do-sic-2013-quantitativo-de-demandas-no-periodo-de-junho-2015-a-maio-2016\">Relatório anual do SIC – quantitativo de demandas no período de junho/2015 a maio/2016</a>\n",
              " </span>, <span class=\"summary\">\n",
              " <a class=\"contenttype-link state-published url\" href=\"https://www.ana.gov.br/todos-os-documentos-do-portal/documentos-cor/relatorios-sic/relatorio-anual-do-sic-2013-quantitativo-de-demandas-no-periodo-de-junho-2014-a-maio-2015\">Relatório anual do SIC – quantitativo de demandas no período de junho/2014 a maio/2015</a>\n",
              " </span>, <span class=\"summary\">\n",
              " <a class=\"contenttype-link state-published url\" href=\"https://www.ana.gov.br/todos-os-documentos-do-portal/documentos-cor/relatorios-sic/relatorio-anual-do-sic-2013-quantitativo-de-demandas-no-periodo-de-junho-2013-a-maio-2014\">Relatório anual do SIC – quantitativo de demandas no período de junho/2013 a maio/2014</a>\n",
              " </span>, <span class=\"summary\">\n",
              " <a class=\"contenttype-link state-published url\" href=\"https://www.ana.gov.br/todos-os-documentos-do-portal/documentos-cor/relatorios-sic/relatorio-anual-do-sic-2013-quantitativo-de-demandas-no-primeiro-ano-de-vigencia-da-lai\">Relatório anual do SIC – quantitativo de demandas no primeiro ano de vigência da LAI</a>\n",
              " </span>, <span class=\"summary\">\n",
              " <a class=\"contenttype-file state-published url\" href=\"https://www.ana.gov.br/todos-os-documentos-do-portal/documentos-cor/relatorios-sic/relatorio-anual-sic-2017-2018.pdf/view\">Relatório anual do SIC – quantitativo de demandas no período de junho/2017 a maio/2018</a>\n",
              " </span>, <span class=\"summary\">\n",
              " <a class=\"contenttype-file state-published url\" href=\"https://www.ana.gov.br/todos-os-documentos-do-portal/documentos-cor/relatorios-sic/7o-relatorio-anual-sic-2018-2019.pdf/view\">Relatório anual do SIC – quantitativo de demandas no período de junho/2018 a maio/2019</a>\n",
              " </span>, <span class=\"summary\">\n",
              " <a class=\"contenttype-file state-published url\" href=\"https://www.ana.gov.br/todos-os-documentos-do-portal/documentos-cor/relatorios-sic/relatorio-anual-do-sic-2013-quantitativo-de-demandas-no-periodo-de-junho-2019-a-maio-2020/view\"> Relatório anual do SIC – quantitativo de demandas no período de junho/2019 a maio/2020</a>\n",
              " </span>]"
            ]
          },
          "metadata": {
            "tags": []
          },
          "execution_count": 10
        }
      ]
    },
    {
      "cell_type": "code",
      "metadata": {
        "colab": {
          "base_uri": "https://localhost:8080/"
        },
        "id": "U0qnd-mr_Jaq",
        "outputId": "522a3288-e74e-4875-cb51-da678569e522"
      },
      "source": [
        "page_links_url = [Tag_a_url.find('a').get('href') for Tag_a_url in page_links]\r\n",
        "page_links_url"
      ],
      "execution_count": 11,
      "outputs": [
        {
          "output_type": "execute_result",
          "data": {
            "text/plain": [
              "['https://www.ana.gov.br/todos-os-documentos-do-portal/documentos-cor/relatorios-sic/relatorio-anual-do-sic-2013-quantitativo-de-demandas-no-periodo-de-junho-2016-a-maio-2017',\n",
              " 'https://www.ana.gov.br/todos-os-documentos-do-portal/documentos-cor/relatorios-sic/relatorio-anual-do-sic-2013-quantitativo-de-demandas-no-periodo-de-junho-2015-a-maio-2016',\n",
              " 'https://www.ana.gov.br/todos-os-documentos-do-portal/documentos-cor/relatorios-sic/relatorio-anual-do-sic-2013-quantitativo-de-demandas-no-periodo-de-junho-2014-a-maio-2015',\n",
              " 'https://www.ana.gov.br/todos-os-documentos-do-portal/documentos-cor/relatorios-sic/relatorio-anual-do-sic-2013-quantitativo-de-demandas-no-periodo-de-junho-2013-a-maio-2014',\n",
              " 'https://www.ana.gov.br/todos-os-documentos-do-portal/documentos-cor/relatorios-sic/relatorio-anual-do-sic-2013-quantitativo-de-demandas-no-primeiro-ano-de-vigencia-da-lai',\n",
              " 'https://www.ana.gov.br/todos-os-documentos-do-portal/documentos-cor/relatorios-sic/relatorio-anual-sic-2017-2018.pdf/view',\n",
              " 'https://www.ana.gov.br/todos-os-documentos-do-portal/documentos-cor/relatorios-sic/7o-relatorio-anual-sic-2018-2019.pdf/view',\n",
              " 'https://www.ana.gov.br/todos-os-documentos-do-portal/documentos-cor/relatorios-sic/relatorio-anual-do-sic-2013-quantitativo-de-demandas-no-periodo-de-junho-2019-a-maio-2020/view']"
            ]
          },
          "metadata": {
            "tags": []
          },
          "execution_count": 11
        }
      ]
    },
    {
      "cell_type": "code",
      "metadata": {
        "colab": {
          "base_uri": "https://localhost:8080/"
        },
        "id": "Hil7oe9e_LAL",
        "outputId": "6a44f9b6-124a-4831-f2d9-2253f4f75970"
      },
      "source": [
        "!wget --no-check-certificate -P ./ \"https://www.ana.gov.br/todos-os-documentos-do-portal/documentos-cor/relatorios-sic/relatorio-anual-do-sic-2013-quantitativo-de-demandas-no-periodo-de-junho-2016-a-maio-2017\""
      ],
      "execution_count": 12,
      "outputs": [
        {
          "output_type": "stream",
          "text": [
            "--2021-02-15 23:18:27--  https://www.ana.gov.br/todos-os-documentos-do-portal/documentos-cor/relatorios-sic/relatorio-anual-do-sic-2013-quantitativo-de-demandas-no-periodo-de-junho-2016-a-maio-2017\n",
            "Resolving www.ana.gov.br (www.ana.gov.br)... 177.15.65.132, 2804:301:4001:1270:a694:e0a9:83d8:2274, 2804:301:4001:1270:a694:e0a9:83d8:2274\n",
            "Connecting to www.ana.gov.br (www.ana.gov.br)|177.15.65.132|:443... connected.\n",
            "HTTP request sent, awaiting response... 302 Moved Temporarily\n",
            "Location: http://arquivos.ana.gov.br/acessoainformacao/201606a201705_RelatorioSIC-PedidosDeAcessoAInformacao.pdf?v=3 [following]\n",
            "--2021-02-15 23:18:28--  http://arquivos.ana.gov.br/acessoainformacao/201606a201705_RelatorioSIC-PedidosDeAcessoAInformacao.pdf?v=3\n",
            "Resolving arquivos.ana.gov.br (arquivos.ana.gov.br)... 177.15.65.132, 2804:301:4001:1270:a694:e0a9:83d8:2274\n",
            "Connecting to arquivos.ana.gov.br (arquivos.ana.gov.br)|177.15.65.132|:80... connected.\n",
            "HTTP request sent, awaiting response... 301 Moved Permanently\n",
            "Location: https://arquivos.ana.gov.br/acessoainformacao/201606a201705_RelatorioSIC-PedidosDeAcessoAInformacao.pdf?v=3 [following]\n",
            "--2021-02-15 23:18:29--  https://arquivos.ana.gov.br/acessoainformacao/201606a201705_RelatorioSIC-PedidosDeAcessoAInformacao.pdf?v=3\n",
            "Connecting to arquivos.ana.gov.br (arquivos.ana.gov.br)|177.15.65.132|:443... connected.\n",
            "HTTP request sent, awaiting response... 200 OK\n",
            "Length: 82844 (81K) [application/pdf]\n",
            "Saving to: ‘./relatorio-anual-do-sic-2013-quantitativo-de-demandas-no-periodo-de-junho-2016-a-maio-2017’\n",
            "\n",
            "relatorio-anual-do- 100%[===================>]  80.90K  --.-KB/s    in 0.1s    \n",
            "\n",
            "2021-02-15 23:18:30 (592 KB/s) - ‘./relatorio-anual-do-sic-2013-quantitativo-de-demandas-no-periodo-de-junho-2016-a-maio-2017’ saved [82844/82844]\n",
            "\n"
          ],
          "name": "stdout"
        }
      ]
    },
    {
      "cell_type": "code",
      "metadata": {
        "colab": {
          "base_uri": "https://localhost:8080/"
        },
        "id": "SLkCb8Gs_S3_",
        "outputId": "6ab6150a-4886-4c7b-d90a-27c1c63ebdfb"
      },
      "source": [
        "import subprocess\r\n",
        "\r\n",
        "for url in page_links_url:\r\n",
        "  print(\"Extraindo o pdf da url: \", url)\r\n",
        "  getRpm = 'wget --no-check-certificate -P ./PastaPDFs %s' %url\r\n",
        "  subprocess.run(getRpm, shell=True)\r\n",
        "\r\n",
        "print(\"Processo finalizado!\")"
      ],
      "execution_count": 13,
      "outputs": [
        {
          "output_type": "stream",
          "text": [
            "Extraindo o pdf da url:  https://www.ana.gov.br/todos-os-documentos-do-portal/documentos-cor/relatorios-sic/relatorio-anual-do-sic-2013-quantitativo-de-demandas-no-periodo-de-junho-2016-a-maio-2017\n",
            "Extraindo o pdf da url:  https://www.ana.gov.br/todos-os-documentos-do-portal/documentos-cor/relatorios-sic/relatorio-anual-do-sic-2013-quantitativo-de-demandas-no-periodo-de-junho-2015-a-maio-2016\n",
            "Extraindo o pdf da url:  https://www.ana.gov.br/todos-os-documentos-do-portal/documentos-cor/relatorios-sic/relatorio-anual-do-sic-2013-quantitativo-de-demandas-no-periodo-de-junho-2014-a-maio-2015\n",
            "Extraindo o pdf da url:  https://www.ana.gov.br/todos-os-documentos-do-portal/documentos-cor/relatorios-sic/relatorio-anual-do-sic-2013-quantitativo-de-demandas-no-periodo-de-junho-2013-a-maio-2014\n",
            "Extraindo o pdf da url:  https://www.ana.gov.br/todos-os-documentos-do-portal/documentos-cor/relatorios-sic/relatorio-anual-do-sic-2013-quantitativo-de-demandas-no-primeiro-ano-de-vigencia-da-lai\n",
            "Extraindo o pdf da url:  https://www.ana.gov.br/todos-os-documentos-do-portal/documentos-cor/relatorios-sic/relatorio-anual-sic-2017-2018.pdf/view\n",
            "Extraindo o pdf da url:  https://www.ana.gov.br/todos-os-documentos-do-portal/documentos-cor/relatorios-sic/7o-relatorio-anual-sic-2018-2019.pdf/view\n",
            "Extraindo o pdf da url:  https://www.ana.gov.br/todos-os-documentos-do-portal/documentos-cor/relatorios-sic/relatorio-anual-do-sic-2013-quantitativo-de-demandas-no-periodo-de-junho-2019-a-maio-2020/view\n",
            "Processo finalizado!\n"
          ],
          "name": "stdout"
        }
      ]
    },
    {
      "cell_type": "code",
      "metadata": {
        "id": "WcvRh2sm_ONu"
      },
      "source": [
        ""
      ],
      "execution_count": null,
      "outputs": []
    }
  ]
}